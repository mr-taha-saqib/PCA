{
  "nbformat": 4,
  "nbformat_minor": 0,
  "metadata": {
    "colab": {
      "provenance": []
    },
    "kernelspec": {
      "name": "python3",
      "display_name": "Python 3"
    },
    "language_info": {
      "name": "python"
    }
  },
  "cells": [
    {
      "cell_type": "code",
      "execution_count": null,
      "metadata": {
        "colab": {
          "base_uri": "https://localhost:8080/"
        },
        "id": "jyDAeJm2p45j",
        "outputId": "0418527a-f5f2-4a9d-8b22-6455f43c8f36"
      },
      "outputs": [
        {
          "output_type": "stream",
          "name": "stdout",
          "text": [
            "Eigenmatrix (Matrix of Eigenvectors):\n",
            " [[-0.56959484 -0.82192562]]\n",
            "Explained Variance Ratio:\n",
            " [0.95623321]\n",
            "PCA-transformed Data:\n",
            " [[ 4.71168956]\n",
            " [ 0.85439226]\n",
            " [ 1.92864865]\n",
            " [-1.10672304]\n",
            " [-2.49824349]\n",
            " [-3.88976395]]\n",
            "Recovered Data:\n",
            " [[1.81624595 1.12734164]\n",
            " [4.01334258 4.29775312]\n",
            " [3.40145168 3.41479426]\n",
            " [5.13038373 5.90964402]\n",
            " [5.9229866  7.05337032]\n",
            " [6.71558946 8.19709663]]\n"
          ]
        }
      ],
      "source": [
        "import numpy as np\n",
        "from sklearn.decomposition import PCA\n",
        "\n",
        "# Original 2D dataset\n",
        "X = np.asarray([[2, 1], [3, 5], [4, 3], [5, 6], [6, 7], [7, 8]]).astype(float)\n",
        "\n",
        "# PCA with 1 component\n",
        "pca = PCA(n_components=1)\n",
        "X_pca = pca.fit_transform(X)\n",
        "\n",
        "# Obtain the eigenmatrix (matrix of eigenvectors)\n",
        "eigenmatrix = pca.components_\n",
        "print(\"Eigenmatrix (Matrix of Eigenvectors):\\n\", eigenmatrix)\n",
        "\n",
        "# Recover the data back to the original space\n",
        "X_recovered = pca.inverse_transform(X_pca)\n",
        "\n",
        "# Print the explained variance ratio and the recovered data\n",
        "print(\"Explained Variance Ratio:\\n\", pca.explained_variance_ratio_)\n",
        "print(\"PCA-transformed Data:\\n\", X_pca)\n",
        "print(\"Recovered Data:\\n\", X_recovered)"
      ]
    },
    {
      "cell_type": "code",
      "source": [
        "import numpy as np\n",
        "\n",
        "def myPCA(X, num_components):\n",
        "    \"\"\"\n",
        "    This function implements Principal Component Analysis (PCA) on a given dataset `X`.\n",
        "\n",
        "    Parameters:\n",
        "    X: numpy array, shape (n_samples, n_features) - The input dataset.\n",
        "    num_components: int - Number of principal components to keep.\n",
        "\n",
        "    Returns:\n",
        "    X_ret: numpy array, shape (n_samples, n_features) - The reconstructed dataset.\n",
        "    \"\"\"\n",
        "\n",
        "    # Step 1: Remove the mean from the dataset\n",
        "    means = np.mean(X, axis=0)\n",
        "    X_meaned = X - means\n",
        "    X_meaned = np.round(X_meaned, 2)\n",
        "\n",
        "    # Display mean values and mean-removed dataset\n",
        "    print(\"Mean Values :\\t\", means)\n",
        "    print(\"\\nMean Value:\\n\", X_meaned)\n",
        "    print(\"Shape\", np.shape(means))\n",
        "\n",
        "    # Step 2: Calculate the covariance matrix\n",
        "    cov_mat = np.cov(X_meaned, rowvar=False)\n",
        "    print(\"\\n\\nCovariance Matrix:\\n\\n\", cov_mat)\n",
        "\n",
        "    # Step 3: Calculate the eigenvalues and eigenvectors\n",
        "    eigen_values, eigen_vectors = np.linalg.eigh(cov_mat)\n",
        "\n",
        "    # Display the eigenvalues and eigenvectors\n",
        "    eigen_values = np.round(eigen_values, 2)\n",
        "    eigen_vectors = np.round(eigen_vectors, 2)\n",
        "    print(\"\\nEigen Value : \", eigen_values)\n",
        "    print(\"\\nEigen Vector : \\n\\n\", eigen_vectors)\n",
        "\n",
        "    # Step 4: Sort the eigenvalues in descending order\n",
        "    sorted_index = np.argsort(eigen_values)[::-1]\n",
        "    sorted_eigenvalues = eigen_values[sorted_index]\n",
        "    sorted_eigenvectors = eigen_vectors[:, sorted_index]\n",
        "\n",
        "    # Step 5: Select the first `num_components` eigenvectors\n",
        "    eigenvector_subset = sorted_eigenvectors[:, :num_components]\n",
        "\n",
        "    # Display the selected eigenvectors\n",
        "    print(\"\\n\\nSelected Eigenvectors:\\n\", eigenvector_subset)\n",
        "\n",
        "    # Step 6: Project the mean-removed dataset onto the eigenvectors\n",
        "    X_reduced = np.dot(eigenvector_subset.T, X_meaned.T).T\n",
        "    print(\"\\nReduced Dataset:\\n\", X_reduced)\n",
        "\n",
        "    # Step 7: Reconstruct the dataset\n",
        "    X_ret = np.dot(X_reduced, eigenvector_subset.T)\n",
        "    X_ret += means\n",
        "\n",
        "    # Display the reconstructed dataset\n",
        "    print(\"\\nReconstructed Dataset:\\n\", X_ret)\n"
      ],
      "metadata": {
        "id": "u7eehPgaqGLE"
      },
      "execution_count": null,
      "outputs": []
    },
    {
      "cell_type": "code",
      "source": [
        "myPCA(X, 1)"
      ],
      "metadata": {
        "colab": {
          "base_uri": "https://localhost:8080/"
        },
        "id": "5Bc01DNBqGIM",
        "outputId": "ccfcc7e3-cd5e-48dd-f101-c89eb1538149"
      },
      "execution_count": null,
      "outputs": [
        {
          "output_type": "stream",
          "name": "stdout",
          "text": [
            "Mean Values :\t [4.5 5. ]\n",
            "\n",
            "Mean Value:\n",
            " [[-2.5 -4. ]\n",
            " [-1.5  0. ]\n",
            " [-0.5 -2. ]\n",
            " [ 0.5  1. ]\n",
            " [ 1.5  2. ]\n",
            " [ 2.5  3. ]]\n",
            "Shape (2,)\n",
            "\n",
            "\n",
            "Covariance Matrix:\n",
            "\n",
            " [[3.5 4.4]\n",
            " [4.4 6.8]]\n",
            "\n",
            "Eigen Value :  [0.45 9.85]\n",
            "\n",
            "Eigen Vector : \n",
            "\n",
            " [[-0.82  0.57]\n",
            " [ 0.57  0.82]]\n",
            "\n",
            "\n",
            "Selected Eigenvectors:\n",
            " [[0.57]\n",
            " [0.82]]\n",
            "\n",
            "Reduced Dataset:\n",
            " [[-4.705]\n",
            " [-0.855]\n",
            " [-1.925]\n",
            " [ 1.105]\n",
            " [ 2.495]\n",
            " [ 3.885]]\n",
            "\n",
            "Reconstructed Dataset:\n",
            " [[1.81815 1.1419 ]\n",
            " [4.01265 4.2989 ]\n",
            " [3.40275 3.4215 ]\n",
            " [5.12985 5.9061 ]\n",
            " [5.92215 7.0459 ]\n",
            " [6.71445 8.1857 ]]\n"
          ]
        }
      ]
    }
  ]
}